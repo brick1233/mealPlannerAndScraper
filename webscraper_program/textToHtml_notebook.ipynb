{
 "cells": [
  {
   "cell_type": "code",
   "execution_count": 3,
   "id": "bc269b8f",
   "metadata": {},
   "outputs": [],
   "source": [
    "import requests\n",
    "from bs4 import BeautifulSoup\n",
    "import re"
   ]
  },
  {
   "cell_type": "code",
   "execution_count": 25,
   "id": "204d6125",
   "metadata": {},
   "outputs": [],
   "source": [
    "recipeName = \"recipeName\"\n",
    "ingreList = [\"hi\",\"y\"]\n",
    "recipeList = [\"step1\",\"step2\"]\n",
    "noteList = []\n",
    "\n",
    "wd = \"/home/jvucelic/Documents/githubDocs/testingRepo/mealPlanner/testing/\"\n",
    "\n",
    "htmlFormat = wd+\"htmlFormat.txt\"\n",
    "outputPath = wd+\"testHtml.html\"\n",
    "\n",
    "#function to create html tag\n",
    "#args: soup-soup to add to, tagName-type of tag, tagString-text to populate tag\n",
    "def makeHtmlTag(soup, tagName, tagString):\n",
    "    newTag = soup.new_tag(tagName)\n",
    "    newTag.string = tagString\n",
    "    return newTag\n",
    "\n",
    "def textToHTML(templateHTML, outputPath, recipeInfo):\n",
    "    #extract recipe info\n",
    "    if type(recipeInfo) == tuple:\n",
    "        recipeName = recipeInfo[0]\n",
    "        ingreList = recipeInfo[1]\n",
    "        recipeList = recipeInfo[2]\n",
    "        noteList = recipeInfo[3]\n",
    "\n",
    "        #write info in proper locations according to the template\n",
    "        with open(templateHTML, \"r\") as htmlBase, open(outputPath, \"w\") as newHtml:\n",
    "            \n",
    "            recipeSoup = BeautifulSoup(htmlBase.read())\n",
    "            title = recipeSoup.find('div', {\"id\":\"recipe-name\"})\n",
    "            ingredients = recipeSoup.find('ul', {\"id\":\"ingredients\"})\n",
    "            recipe = recipeSoup.find('ol', {\"style\" : \"list-style-type: decimal\"})\n",
    "            notes = recipeSoup.find('ul', {\"id\":\"notes\"})\n",
    "            recipeDate = recipeSoup.find('h2', {\"id\":\"date\"})\n",
    "            \n",
    "            #title tag\n",
    "            title.insert_after(makeHtmlTag(recipeSoup, \"p\", recipeName))\n",
    "            \n",
    "            #list of ingredient tags\n",
    "            for item in reversed(ingreList):\n",
    "                ingredients.insert_after(makeHtmlTag(recipeSoup, \"li\", item))\n",
    "            \n",
    "            #list of recipe steps\n",
    "            for item in reversed(recipeList):\n",
    "                recipe.insert_after(makeHtmlTag(recipeSoup, \"li\", item))\n",
    "            \n",
    "            #potential notes\n",
    "            if noteList:\n",
    "                for item in reversed(noteList):\n",
    "                    notes.insert_after(makeHtmlTag(recipeSoup, \"li\", item))\n",
    "                    \n",
    "            recipeDate.insert_after(makeHtmlTag(recipeSoup, \"p\", 'tempDate'))\n",
    "    \n",
    "        \n",
    "            newHtml.write(recipeSoup.prettify())\n",
    "    elif type(recipeInfo) == dict:\n",
    "        # write shoppingList to html file\n",
    "        with open(templateHTML, \"r\") as htmlBase, open(outputPath, \"w\") as newHtml:\n",
    "            shoppingListSoup = BeautifulSoup(htmlBase.read())\n",
    "            listTag = shoppingListSoup.find('ol', {\"style\" : \"list-style-type: disc\"})\n",
    "            for ingredient, quantity in recipeInfo.items():\n",
    "                listTag.insert_after(makeHtmlTag(shoppingListSoup, \"li\", f\"{quantity[0]} - {quantity[1]} {ingredient}\"))\n",
    "                \n",
    "            newHtml.write(shoppingListSoup.prettify())\n",
    "textToHTML(wd+\"htmlFormatShoppingList.txt\",wd+\"shoppingListTest.html\",x)"
   ]
  },
  {
   "cell_type": "code",
   "execution_count": 7,
   "id": "ced6c27c",
   "metadata": {},
   "outputs": [],
   "source": [
    "x ={'EGGS, SEPARATED': [12.0, ''], 'CREAM OF TARTAR': [0.5, 'TSP'], 'WHITE SUGAR': [1.0, 'CUP'], 'WATER': [17.5, 'TBS'], 'PANDAN PASTE': [0.5, 'TSP'], 'CORN OIL': [10.0, 'TBS'], 'SELF-RISING FLOUR, SIFTED': [2.0, 'CUP'], 'GRANULATED SUGAR': [0.75, 'CUP'], 'BAKING POWDER': [1.0, 'TSP'], 'SALT': [1.75, 'TSP'], 'LARGE EGGS': [2.0, ''], 'VANILLA EXTRACT': [1.0, 'TSP'], 'FIORI DI SICILIA': [0.25, 'TSP'], 'ALL-PURPOSE FLOUR': [1.0, 'CUP'], 'FRESH STRAWBERRIES, CUT INTO 3/4 INCH DICE': [2.0, 'CUP'], 'TURBINADO SUGAR': [2.0, 'TBS'], 'BACON': [6.0, 'STRIPS'], 'BUTTER': [3.0, 'TBS'], 'ONION': [1.5, 'CUP'], 'GARLIC': [3.0, 'CLOVES'], 'FLOUR': [0.8300000000000001, 'CUP'], 'POTATOES': [2.5, 'LB'], 'CHICKEN BROTH': [4.0, 'CUP'], 'MILK': [2.0, 'CUP'], 'HEAVY CREAM': [0.67, 'CUP'], 'PEPPER': [1.0, 'TSP'], 'CHILE POWDER': [3.5, 'TSP'], 'SOUR CREAM': [0.67, 'CUP'], 'JACK CHEESE': [0.5, 'LB'], 'CHEDDAR CHEESE': [0.5, 'LB'], 'GREEN ONION': [1.0, 'BUNCHES'], 'BLACK BEANS': [1.0, 'CAN'], 'DICED GREEN CHILE': [4.0, 'OZ'], 'GROUND ROUND': [0.5, 'LB'], 'PORK SAUSAGE': [0.5, 'LB'], 'CORN TORTILLAS': [24.0, ''], 'OIL/LARD': [0.5, 'CUP'], 'GARLIC SALT': [1.0, 'TEASPOON'], 'TOMATO SAUCE': [1.0, 'LARGE CAN'], 'THINLY SLICED DELI COOKED HAM, MINCED': [1.5, 'LB'], 'MAYONNAISE': [0.75, 'CUP'], 'MINCED DILL PICKLE': [3.0, 'TBS'], 'DIJON MUSTARD': [4.5, 'TSP'], 'HOT PEPPER SAUCE (SUCH AS TABASCO®), OR TO TASTE': [0.75, 'TSP']}"
   ]
  },
  {
   "cell_type": "code",
   "execution_count": 21,
   "id": "ce6e7381",
   "metadata": {},
   "outputs": [
    {
     "ename": "NameError",
     "evalue": "name 'shoppingListSoup' is not defined",
     "output_type": "error",
     "traceback": [
      "Traceback \u001b[0;36m(most recent call last)\u001b[0m:\n",
      "\u001b[0;36m  Cell \u001b[0;32mIn[21], line 1\u001b[0;36m\n\u001b[0;31m    print(shoppingListSoup)\u001b[0;36m\n",
      "\u001b[0;31mNameError\u001b[0m\u001b[0;31m:\u001b[0m name 'shoppingListSoup' is not defined\n"
     ]
    }
   ],
   "source": [
    "print(shoppingListSoup)\n"
   ]
  },
  {
   "cell_type": "code",
   "execution_count": null,
   "id": "fa16a660-b772-4ebc-8cc5-bb79ac1ae525",
   "metadata": {},
   "outputs": [],
   "source": []
  }
 ],
 "metadata": {
  "kernelspec": {
   "display_name": "Python 3 (Spyder)",
   "language": "python3",
   "name": "python3"
  },
  "language_info": {
   "codemirror_mode": {
    "name": "ipython",
    "version": 3
   },
   "file_extension": ".py",
   "mimetype": "text/x-python",
   "name": "python",
   "nbconvert_exporter": "python",
   "pygments_lexer": "ipython3",
   "version": "3.11.9"
  }
 },
 "nbformat": 4,
 "nbformat_minor": 5
}
