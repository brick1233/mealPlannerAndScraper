{
 "cells": [
  {
   "cell_type": "code",
   "execution_count": 1,
   "id": "bc269b8f",
   "metadata": {},
   "outputs": [],
   "source": [
    "import requests\n",
    "from bs4 import BeautifulSoup\n",
    "import re"
   ]
  },
  {
   "cell_type": "code",
   "execution_count": 11,
   "id": "204d6125",
   "metadata": {},
   "outputs": [],
   "source": [
    "wd = \"/home/jvucelic/Documents/githubDocs/testingRepo/mealPlanner/testing/\"\n",
    "\n",
    "htmlFormat = wd+\"htmlFormat.txt\"\n",
    "outputPath = wd+\"testHtml.html\"\n",
    "\n",
    "#function to create html tag\n",
    "#args: soup-soup to add to, tagName-type of tag, tagString-text to populate tag\n",
    "def makeHtmlTag(soup, tagName, tagString):\n",
    "    newTag = soup.new_tag(tagName)\n",
    "    newTag.string = tagString\n",
    "    return newTag\n",
    "\n",
    "recipeName = \"recipeName\"\n",
    "ingreList = [\"x\",\"y\"]\n",
    "recipeList = [\"step1\",\"step2\"]\n",
    "noteList = []\n",
    "with open(htmlFormat, \"r\") as htmlBase, open(outputPath, \"w\") as newHtml:\n",
    "    \n",
    "    recipeSoup = BeautifulSoup(htmlBase.read())\n",
    "    title = recipeSoup.find('div', {\"id\":\"recipe-name\"})\n",
    "    ingredients = recipeSoup.find('ul', {\"id\":\"ingredients\"})\n",
    "    recipe = recipeSoup.find('ol', {\"style\" : \"list-style-type: decimal\"})\n",
    "    notes = recipeSoup.find('ul', {\"id\":\"notes\"})\n",
    "    recipeDate = recipeSoup.find('h2', {\"id\":\"date\"})\n",
    "    \n",
    "    #title tag\n",
    "    title.insert_after(makeHtmlTag(recipeSoup, \"p\", recipeName))\n",
    "    \n",
    "    #list of ingredient tags\n",
    "    for item in reversed(ingreList):\n",
    "        ingredients.insert_after(makeHtmlTag(recipeSoup, \"li\", item))\n",
    "    \n",
    "    #list of recipe steps\n",
    "    for item in reversed(recipeList):\n",
    "        recipe.insert_after(makeHtmlTag(recipeSoup, \"li\", item))\n",
    "    \n",
    "    #potential notes\n",
    "    if noteList:\n",
    "        for item in reversed(noteList):\n",
    "            notes.insert_after(makeHtmlTag(recipeSoup, \"li\", item))\n",
    "            \n",
    "    recipeDate.insert_after(makeHtmlTag(recipeSoup, \"p\", 'tempDate'))\n",
    "    \n",
    "    newHtml.write(recipeSoup.prettify())"
   ]
  },
  {
   "cell_type": "code",
   "execution_count": null,
   "id": "ced6c27c",
   "metadata": {},
   "outputs": [],
   "source": []
  },
  {
   "cell_type": "code",
   "execution_count": null,
   "id": "ce6e7381",
   "metadata": {},
   "outputs": [],
   "source": []
  }
 ],
 "metadata": {
  "kernelspec": {
   "display_name": "Python 3 (Spyder)",
   "language": "python3",
   "name": "python3"
  },
  "language_info": {
   "codemirror_mode": {
    "name": "ipython",
    "version": 3
   },
   "file_extension": ".py",
   "mimetype": "text/x-python",
   "name": "python",
   "nbconvert_exporter": "python",
   "pygments_lexer": "ipython3",
   "version": "3.11.9"
  }
 },
 "nbformat": 4,
 "nbformat_minor": 5
}
